{
 "cells": [
  {
   "cell_type": "code",
   "execution_count": 1,
   "id": "20589f11",
   "metadata": {},
   "outputs": [],
   "source": [
    "import pickle\n",
    "import re\n",
    "import sys\n",
    "import pandas as pd\n",
    "import numpy as np\n",
    "# import beautifulsoup4 as bs4"
   ]
  },
  {
   "cell_type": "code",
   "execution_count": 2,
   "id": "42c7ea54",
   "metadata": {},
   "outputs": [
    {
     "name": "stderr",
     "output_type": "stream",
     "text": [
      "C:\\Users\\Admin\\anaconda3\\lib\\site-packages\\sklearn\\base.py:310: UserWarning: Trying to unpickle estimator CountVectorizer from version 1.0.2 when using version 0.24.2. This might lead to breaking code or invalid results. Use at your own risk.\n",
      "  warnings.warn(\n"
     ]
    }
   ],
   "source": [
    "cv = pickle.load(open('./count.pkl', 'rb'))\n",
    "classifier = pickle.load(open('./model.pkl', 'rb'))"
   ]
  },
  {
   "cell_type": "code",
   "execution_count": 3,
   "id": "2ccea784",
   "metadata": {},
   "outputs": [
    {
     "name": "stdout",
     "output_type": "stream",
     "text": [
      "0\n"
     ]
    }
   ],
   "source": [
    "df = pd.read_csv('youtube.csv')\n",
    "df = df.dropna(subset = ['Comment']).reset_index(drop = True)\n",
    "print(df['Comment'].isnull().sum())\n",
    "X = df['Comment']"
   ]
  },
  {
   "cell_type": "code",
   "execution_count": 4,
   "id": "5ba29bf5",
   "metadata": {},
   "outputs": [],
   "source": [
    "reviews = []\n",
    "\n",
    "for i in range(0,len(X)):   \n",
    "    new_review = X[i]\n",
    "    \n",
    "    new_review = re.sub('[^a-zA-Z]', ' ', new_review)\n",
    "    new_review = new_review.lower()\n",
    "\n",
    "    new_X_test = cv.transform([new_review])\n",
    "    new_y_pred = classifier.predict(new_X_test)\n",
    "    if(new_y_pred == 1):\n",
    "        reviews.append([X[i],new_y_pred[0]])\n",
    "\n",
    "new_df = pd.DataFrame(reviews,columns = ['Comment_text','toxicity'])"
   ]
  },
  {
   "cell_type": "code",
   "execution_count": 6,
   "id": "c0f9aabc",
   "metadata": {},
   "outputs": [],
   "source": [
    "new_df.to_csv('Output.csv',mode = 'w',index=False,header = True)"
   ]
  },
  {
   "cell_type": "code",
   "execution_count": null,
   "id": "6a2de3bb",
   "metadata": {},
   "outputs": [],
   "source": []
  }
 ],
 "metadata": {
  "kernelspec": {
   "display_name": "Python 3 (ipykernel)",
   "language": "python",
   "name": "python3"
  },
  "language_info": {
   "codemirror_mode": {
    "name": "ipython",
    "version": 3
   },
   "file_extension": ".py",
   "mimetype": "text/x-python",
   "name": "python",
   "nbconvert_exporter": "python",
   "pygments_lexer": "ipython3",
   "version": "3.9.7"
  }
 },
 "nbformat": 4,
 "nbformat_minor": 5
}
